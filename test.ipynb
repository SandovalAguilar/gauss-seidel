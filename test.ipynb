{
 "cells": [
  {
   "cell_type": "code",
   "execution_count": 1,
   "metadata": {},
   "outputs": [
    {
     "name": "stdout",
     "output_type": "stream",
     "text": [
      "Se encontró la solución en la iteración 27.\n",
      "Solución encontrada: [2.8477668728054657, -0.9120584555575846]\n"
     ]
    }
   ],
   "source": [
    "def gauss_seidel(A, b, init, iteraciones=40, tolerancia_porcentaje=1.0):\n",
    "    n = len(A)\n",
    "    x = init.copy()\n",
    "    \n",
    "    for iteracion in range(iteraciones):\n",
    "        x_new = x.copy()\n",
    "        \n",
    "        for i in range(n):\n",
    "            sigma = 0\n",
    "            for j in range(n):\n",
    "                if j != i:\n",
    "                    sigma += A[i][j] * x_new[j]\n",
    "            x[i] = (b[i] - sigma) / A[i][i]\n",
    "            \n",
    "        error = max([abs((x_new[i] - x[i]) / x[i]) * 100 for i in range(n)])\n",
    "        \n",
    "        if error < tolerancia_porcentaje:\n",
    "            print(f\"Se encontró la solución en la iteración {iteracion + 1}.\")\n",
    "            return x\n",
    "        \n",
    "    print(\"No se ha encontrado la solución.\")\n",
    "    return None\n",
    "\n",
    "# Ejemplo de uso\n",
    "A = [[16, 5],\n",
    "     [10, 6]]\n",
    "\n",
    "b = [41,23]\n",
    "init = [0, 0,]\n",
    "\n",
    "tolerancia_porcentaje = 0.1 \n",
    "solution = gauss_seidel(A, b, init, tolerancia_porcentaje=tolerancia_porcentaje)\n",
    "if solution:\n",
    "    print(\"Solución encontrada:\", solution)"
   ]
  }
 ],
 "metadata": {
  "kernelspec": {
   "display_name": "Python 3",
   "language": "python",
   "name": "python3"
  },
  "language_info": {
   "codemirror_mode": {
    "name": "ipython",
    "version": 3
   },
   "file_extension": ".py",
   "mimetype": "text/x-python",
   "name": "python",
   "nbconvert_exporter": "python",
   "pygments_lexer": "ipython3",
   "version": "3.11.4"
  },
  "orig_nbformat": 4
 },
 "nbformat": 4,
 "nbformat_minor": 2
}
